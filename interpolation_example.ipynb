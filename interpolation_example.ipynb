{
 "cells": [
  {
   "cell_type": "markdown",
   "metadata": {},
   "source": [
    "# Classification Example\n",
    "Latent Dimensionality Reduction applied to the [Wisconsin breat cancer data set](https://scikit-learn.org/stable/modules/generated/sklearn.datasets.load_breast_cancer.html)."
   ]
  },
  {
   "cell_type": "markdown",
   "metadata": {},
   "source": [
    "Useful because of the ability to backtrack from a model, and identify what metrics are significant indicators of issues."
   ]
  },
  {
   "cell_type": "code",
   "execution_count": 29,
   "metadata": {},
   "outputs": [],
   "source": [
    "import numpy as np\n",
    "import pandas as pd\n",
    "import matplotlib as mpl\n",
    "import matplotlib.pyplot as plt\n",
    "from sklearn.datasets import load_breast_cancer\n",
    "from sklearn.ensemble import RandomForestClassifier, RandomForestRegressor\n",
    "from sklearn.model_selection import train_test_split\n",
    "from sklearn.metrics import f1_score, confusion_matrix\n",
    "from sklearn.svm import OneClassSVM\n",
    "from sklearn import svm\n",
    "from sklearn.neighbors import KernelDensity\n",
    "\n",
    "from ldr import LDR"
   ]
  },
  {
   "cell_type": "code",
   "execution_count": 25,
   "metadata": {},
   "outputs": [],
   "source": [
    "plt.style.use(\"illumina.mplstyle\")"
   ]
  },
  {
   "cell_type": "markdown",
   "metadata": {},
   "source": [
    "## Preprocessing"
   ]
  },
  {
   "cell_type": "markdown",
   "metadata": {},
   "source": [
    "Load dataset. The breast cancer data set is used as it has a good number of samples for model training, and a number of dimensions that will result in a significantly difficult to interpret model."
   ]
  },
  {
   "cell_type": "code",
   "execution_count": 3,
   "metadata": {
    "scrolled": false
   },
   "outputs": [
    {
     "name": "stdout",
     "output_type": "stream",
     "text": [
      "benign       357\n",
      "malignant    212\n",
      "Name: species, dtype: int64\n",
      "Shape: (569, 31)\n"
     ]
    },
    {
     "data": {
      "text/html": [
       "<div>\n",
       "<style scoped>\n",
       "    .dataframe tbody tr th:only-of-type {\n",
       "        vertical-align: middle;\n",
       "    }\n",
       "\n",
       "    .dataframe tbody tr th {\n",
       "        vertical-align: top;\n",
       "    }\n",
       "\n",
       "    .dataframe thead th {\n",
       "        text-align: right;\n",
       "    }\n",
       "</style>\n",
       "<table border=\"1\" class=\"dataframe\">\n",
       "  <thead>\n",
       "    <tr style=\"text-align: right;\">\n",
       "      <th></th>\n",
       "      <th>mean radius</th>\n",
       "      <th>mean texture</th>\n",
       "      <th>mean perimeter</th>\n",
       "      <th>mean area</th>\n",
       "      <th>mean smoothness</th>\n",
       "      <th>mean compactness</th>\n",
       "      <th>mean concavity</th>\n",
       "      <th>mean concave points</th>\n",
       "      <th>mean symmetry</th>\n",
       "      <th>mean fractal dimension</th>\n",
       "      <th>...</th>\n",
       "      <th>worst texture</th>\n",
       "      <th>worst perimeter</th>\n",
       "      <th>worst area</th>\n",
       "      <th>worst smoothness</th>\n",
       "      <th>worst compactness</th>\n",
       "      <th>worst concavity</th>\n",
       "      <th>worst concave points</th>\n",
       "      <th>worst symmetry</th>\n",
       "      <th>worst fractal dimension</th>\n",
       "      <th>species</th>\n",
       "    </tr>\n",
       "  </thead>\n",
       "  <tbody>\n",
       "    <tr>\n",
       "      <th>0</th>\n",
       "      <td>17.99</td>\n",
       "      <td>10.38</td>\n",
       "      <td>122.80</td>\n",
       "      <td>1001.0</td>\n",
       "      <td>0.11840</td>\n",
       "      <td>0.27760</td>\n",
       "      <td>0.3001</td>\n",
       "      <td>0.14710</td>\n",
       "      <td>0.2419</td>\n",
       "      <td>0.07871</td>\n",
       "      <td>...</td>\n",
       "      <td>17.33</td>\n",
       "      <td>184.60</td>\n",
       "      <td>2019.0</td>\n",
       "      <td>0.1622</td>\n",
       "      <td>0.6656</td>\n",
       "      <td>0.7119</td>\n",
       "      <td>0.2654</td>\n",
       "      <td>0.4601</td>\n",
       "      <td>0.11890</td>\n",
       "      <td>malignant</td>\n",
       "    </tr>\n",
       "    <tr>\n",
       "      <th>1</th>\n",
       "      <td>20.57</td>\n",
       "      <td>17.77</td>\n",
       "      <td>132.90</td>\n",
       "      <td>1326.0</td>\n",
       "      <td>0.08474</td>\n",
       "      <td>0.07864</td>\n",
       "      <td>0.0869</td>\n",
       "      <td>0.07017</td>\n",
       "      <td>0.1812</td>\n",
       "      <td>0.05667</td>\n",
       "      <td>...</td>\n",
       "      <td>23.41</td>\n",
       "      <td>158.80</td>\n",
       "      <td>1956.0</td>\n",
       "      <td>0.1238</td>\n",
       "      <td>0.1866</td>\n",
       "      <td>0.2416</td>\n",
       "      <td>0.1860</td>\n",
       "      <td>0.2750</td>\n",
       "      <td>0.08902</td>\n",
       "      <td>malignant</td>\n",
       "    </tr>\n",
       "    <tr>\n",
       "      <th>2</th>\n",
       "      <td>19.69</td>\n",
       "      <td>21.25</td>\n",
       "      <td>130.00</td>\n",
       "      <td>1203.0</td>\n",
       "      <td>0.10960</td>\n",
       "      <td>0.15990</td>\n",
       "      <td>0.1974</td>\n",
       "      <td>0.12790</td>\n",
       "      <td>0.2069</td>\n",
       "      <td>0.05999</td>\n",
       "      <td>...</td>\n",
       "      <td>25.53</td>\n",
       "      <td>152.50</td>\n",
       "      <td>1709.0</td>\n",
       "      <td>0.1444</td>\n",
       "      <td>0.4245</td>\n",
       "      <td>0.4504</td>\n",
       "      <td>0.2430</td>\n",
       "      <td>0.3613</td>\n",
       "      <td>0.08758</td>\n",
       "      <td>malignant</td>\n",
       "    </tr>\n",
       "    <tr>\n",
       "      <th>3</th>\n",
       "      <td>11.42</td>\n",
       "      <td>20.38</td>\n",
       "      <td>77.58</td>\n",
       "      <td>386.1</td>\n",
       "      <td>0.14250</td>\n",
       "      <td>0.28390</td>\n",
       "      <td>0.2414</td>\n",
       "      <td>0.10520</td>\n",
       "      <td>0.2597</td>\n",
       "      <td>0.09744</td>\n",
       "      <td>...</td>\n",
       "      <td>26.50</td>\n",
       "      <td>98.87</td>\n",
       "      <td>567.7</td>\n",
       "      <td>0.2098</td>\n",
       "      <td>0.8663</td>\n",
       "      <td>0.6869</td>\n",
       "      <td>0.2575</td>\n",
       "      <td>0.6638</td>\n",
       "      <td>0.17300</td>\n",
       "      <td>malignant</td>\n",
       "    </tr>\n",
       "    <tr>\n",
       "      <th>4</th>\n",
       "      <td>20.29</td>\n",
       "      <td>14.34</td>\n",
       "      <td>135.10</td>\n",
       "      <td>1297.0</td>\n",
       "      <td>0.10030</td>\n",
       "      <td>0.13280</td>\n",
       "      <td>0.1980</td>\n",
       "      <td>0.10430</td>\n",
       "      <td>0.1809</td>\n",
       "      <td>0.05883</td>\n",
       "      <td>...</td>\n",
       "      <td>16.67</td>\n",
       "      <td>152.20</td>\n",
       "      <td>1575.0</td>\n",
       "      <td>0.1374</td>\n",
       "      <td>0.2050</td>\n",
       "      <td>0.4000</td>\n",
       "      <td>0.1625</td>\n",
       "      <td>0.2364</td>\n",
       "      <td>0.07678</td>\n",
       "      <td>malignant</td>\n",
       "    </tr>\n",
       "  </tbody>\n",
       "</table>\n",
       "<p>5 rows × 31 columns</p>\n",
       "</div>"
      ],
      "text/plain": [
       "   mean radius  mean texture  mean perimeter  mean area  mean smoothness  \\\n",
       "0        17.99         10.38          122.80     1001.0          0.11840   \n",
       "1        20.57         17.77          132.90     1326.0          0.08474   \n",
       "2        19.69         21.25          130.00     1203.0          0.10960   \n",
       "3        11.42         20.38           77.58      386.1          0.14250   \n",
       "4        20.29         14.34          135.10     1297.0          0.10030   \n",
       "\n",
       "   mean compactness  mean concavity  mean concave points  mean symmetry  \\\n",
       "0           0.27760          0.3001              0.14710         0.2419   \n",
       "1           0.07864          0.0869              0.07017         0.1812   \n",
       "2           0.15990          0.1974              0.12790         0.2069   \n",
       "3           0.28390          0.2414              0.10520         0.2597   \n",
       "4           0.13280          0.1980              0.10430         0.1809   \n",
       "\n",
       "   mean fractal dimension  ...  worst texture  worst perimeter  worst area  \\\n",
       "0                 0.07871  ...          17.33           184.60      2019.0   \n",
       "1                 0.05667  ...          23.41           158.80      1956.0   \n",
       "2                 0.05999  ...          25.53           152.50      1709.0   \n",
       "3                 0.09744  ...          26.50            98.87       567.7   \n",
       "4                 0.05883  ...          16.67           152.20      1575.0   \n",
       "\n",
       "   worst smoothness  worst compactness  worst concavity  worst concave points  \\\n",
       "0            0.1622             0.6656           0.7119                0.2654   \n",
       "1            0.1238             0.1866           0.2416                0.1860   \n",
       "2            0.1444             0.4245           0.4504                0.2430   \n",
       "3            0.2098             0.8663           0.6869                0.2575   \n",
       "4            0.1374             0.2050           0.4000                0.1625   \n",
       "\n",
       "   worst symmetry  worst fractal dimension    species  \n",
       "0          0.4601                  0.11890  malignant  \n",
       "1          0.2750                  0.08902  malignant  \n",
       "2          0.3613                  0.08758  malignant  \n",
       "3          0.6638                  0.17300  malignant  \n",
       "4          0.2364                  0.07678  malignant  \n",
       "\n",
       "[5 rows x 31 columns]"
      ]
     },
     "execution_count": 3,
     "metadata": {},
     "output_type": "execute_result"
    }
   ],
   "source": [
    "data = load_breast_cancer()\n",
    "df = pd.DataFrame(data.data, columns=data.feature_names)\n",
    "df[\"species\"] = pd.Categorical.from_codes(data.target, data.target_names)\n",
    "print(df[\"species\"].value_counts())\n",
    "print(\"Shape:\", df.shape)\n",
    "df.head()"
   ]
  },
  {
   "cell_type": "code",
   "execution_count": 4,
   "metadata": {},
   "outputs": [],
   "source": [
    "# pos = df[df[\"species\"] == \"malignant\"][:int(df.shape[0] * 0.2)]\n",
    "pos = df[df[\"species\"] == \"malignant\"]\n",
    "neg = df[df[\"species\"] == \"benign\"]\n",
    "df = pd.concat([pos, neg])"
   ]
  },
  {
   "cell_type": "code",
   "execution_count": 5,
   "metadata": {
    "scrolled": true
   },
   "outputs": [
    {
     "name": "stdout",
     "output_type": "stream",
     "text": [
      "(357, 31) (212, 31)\n"
     ]
    }
   ],
   "source": [
    "print(neg.shape, pos.shape)"
   ]
  },
  {
   "cell_type": "markdown",
   "metadata": {},
   "source": [
    "Drop species as this is the target."
   ]
  },
  {
   "cell_type": "code",
   "execution_count": 6,
   "metadata": {},
   "outputs": [],
   "source": [
    "targets = df[\"species\"]\n",
    "df = df.drop([\"species\"], axis=1)"
   ]
  },
  {
   "cell_type": "markdown",
   "metadata": {},
   "source": [
    "Scale the data."
   ]
  },
  {
   "cell_type": "code",
   "execution_count": 9,
   "metadata": {},
   "outputs": [
    {
     "name": "stdout",
     "output_type": "stream",
     "text": [
      "Class balance fixed, Negatives: 357 , Positives: 357\n"
     ]
    }
   ],
   "source": [
    "ldr = LDR(df, targets, \"class\", pos_val=\"benign\", neg_val=\"malignant\")"
   ]
  },
  {
   "cell_type": "code",
   "execution_count": 10,
   "metadata": {},
   "outputs": [],
   "source": [
    "# ldr.scatter_plot_matrix()"
   ]
  },
  {
   "cell_type": "code",
   "execution_count": 11,
   "metadata": {},
   "outputs": [
    {
     "name": "stdout",
     "output_type": "stream",
     "text": [
      "F1 score: 0.9746835443037976\n",
      "Confusion matrix:\n",
      "[[107   1]\n",
      " [  3  77]]\n"
     ]
    }
   ],
   "source": [
    "# Train classifier and check accuracy.\n",
    "X_train, X_test, y_train, y_test = train_test_split(\n",
    "    ldr.scaled, ldr.targets, test_size=0.33, random_state=42)\n",
    "rf_clf = RandomForestClassifier(n_estimators=100, random_state=42)\n",
    "rf_clf.fit(X_train, y_train)\n",
    "preds = rf_clf.predict(X_test)\n",
    "print(\"F1 score:\", f1_score(y_test, preds, pos_label=\"malignant\"))\n",
    "print(\"Confusion matrix:\")\n",
    "print(confusion_matrix(y_test, preds))"
   ]
  },
  {
   "cell_type": "markdown",
   "metadata": {},
   "source": [
    "## Classifier Training and Analysis"
   ]
  },
  {
   "cell_type": "markdown",
   "metadata": {},
   "source": [
    "### Random Forests"
   ]
  },
  {
   "cell_type": "code",
   "execution_count": 158,
   "metadata": {},
   "outputs": [],
   "source": [
    "def rf_clf_func(df):\n",
    "    proba = rf_clf.predict_proba(df)\n",
    "    return np.array([i[1] for i in proba])"
   ]
  },
  {
   "cell_type": "code",
   "execution_count": 166,
   "metadata": {},
   "outputs": [],
   "source": [
    "ldr.density_estimate(rf_clf_func, n=150000, k_dens=0.02, n_bins=51)"
   ]
  },
  {
   "cell_type": "markdown",
   "metadata": {},
   "source": [
    "Select 5 most important features to visualize."
   ]
  },
  {
   "cell_type": "code",
   "execution_count": 167,
   "metadata": {},
   "outputs": [],
   "source": [
    "# features = [(f, i) for f, i in zip(X_train.columns, rf_clf.feature_importances_)]   \n",
    "# features.sort(key=lambda x: x[1], reverse=True)\n",
    "# features = [i[0] for i in features[:5]]\n",
    "# print(features)\n",
    "\n",
    "features = [\"mean area\", \"mean symmetry\", \"mean compactness\"]\n",
    "\n",
    "ldr.select_bins(features, n_bins=51)"
   ]
  },
  {
   "cell_type": "code",
   "execution_count": 168,
   "metadata": {
    "scrolled": true
   },
   "outputs": [
    {
     "data": {
      "text/html": [
       "<div>\n",
       "<style scoped>\n",
       "    .dataframe tbody tr th:only-of-type {\n",
       "        vertical-align: middle;\n",
       "    }\n",
       "\n",
       "    .dataframe tbody tr th {\n",
       "        vertical-align: top;\n",
       "    }\n",
       "\n",
       "    .dataframe thead th {\n",
       "        text-align: right;\n",
       "    }\n",
       "</style>\n",
       "<table border=\"1\" class=\"dataframe\">\n",
       "  <thead>\n",
       "    <tr style=\"text-align: right;\">\n",
       "      <th></th>\n",
       "      <th>mean radius</th>\n",
       "      <th>mean texture</th>\n",
       "      <th>mean perimeter</th>\n",
       "      <th>mean area</th>\n",
       "      <th>mean smoothness</th>\n",
       "      <th>mean compactness</th>\n",
       "      <th>mean concavity</th>\n",
       "      <th>mean concave points</th>\n",
       "      <th>mean symmetry</th>\n",
       "      <th>mean fractal dimension</th>\n",
       "      <th>...</th>\n",
       "      <th>worst texture</th>\n",
       "      <th>worst perimeter</th>\n",
       "      <th>worst area</th>\n",
       "      <th>worst smoothness</th>\n",
       "      <th>worst compactness</th>\n",
       "      <th>worst concavity</th>\n",
       "      <th>worst concave points</th>\n",
       "      <th>worst symmetry</th>\n",
       "      <th>worst fractal dimension</th>\n",
       "      <th>prediction</th>\n",
       "    </tr>\n",
       "  </thead>\n",
       "  <tbody>\n",
       "    <tr>\n",
       "      <th>0</th>\n",
       "      <td>0.340236</td>\n",
       "      <td>0.381086</td>\n",
       "      <td>0.291604</td>\n",
       "      <td>0.199196</td>\n",
       "      <td>0.250138</td>\n",
       "      <td>0.138912</td>\n",
       "      <td>0.073287</td>\n",
       "      <td>0.064775</td>\n",
       "      <td>0.357013</td>\n",
       "      <td>0.129585</td>\n",
       "      <td>...</td>\n",
       "      <td>0.462618</td>\n",
       "      <td>0.238356</td>\n",
       "      <td>0.113923</td>\n",
       "      <td>0.269197</td>\n",
       "      <td>0.168301</td>\n",
       "      <td>0.189362</td>\n",
       "      <td>0.388916</td>\n",
       "      <td>0.281654</td>\n",
       "      <td>0.093187</td>\n",
       "      <td>0.17</td>\n",
       "    </tr>\n",
       "    <tr>\n",
       "      <th>1</th>\n",
       "      <td>0.488393</td>\n",
       "      <td>0.398288</td>\n",
       "      <td>0.475289</td>\n",
       "      <td>0.308444</td>\n",
       "      <td>0.388400</td>\n",
       "      <td>0.356457</td>\n",
       "      <td>0.305122</td>\n",
       "      <td>0.324077</td>\n",
       "      <td>0.449780</td>\n",
       "      <td>0.116448</td>\n",
       "      <td>...</td>\n",
       "      <td>0.437361</td>\n",
       "      <td>0.373415</td>\n",
       "      <td>0.254286</td>\n",
       "      <td>0.610362</td>\n",
       "      <td>0.367501</td>\n",
       "      <td>0.428155</td>\n",
       "      <td>0.625569</td>\n",
       "      <td>0.637507</td>\n",
       "      <td>0.195875</td>\n",
       "      <td>1.00</td>\n",
       "    </tr>\n",
       "    <tr>\n",
       "      <th>2</th>\n",
       "      <td>0.204062</td>\n",
       "      <td>0.199793</td>\n",
       "      <td>0.210265</td>\n",
       "      <td>0.119782</td>\n",
       "      <td>0.272178</td>\n",
       "      <td>0.318512</td>\n",
       "      <td>0.230209</td>\n",
       "      <td>0.138935</td>\n",
       "      <td>0.350985</td>\n",
       "      <td>0.465313</td>\n",
       "      <td>...</td>\n",
       "      <td>0.164350</td>\n",
       "      <td>0.143276</td>\n",
       "      <td>0.041352</td>\n",
       "      <td>0.257005</td>\n",
       "      <td>0.247710</td>\n",
       "      <td>0.241722</td>\n",
       "      <td>0.285038</td>\n",
       "      <td>0.107353</td>\n",
       "      <td>0.320860</td>\n",
       "      <td>0.00</td>\n",
       "    </tr>\n",
       "    <tr>\n",
       "      <th>3</th>\n",
       "      <td>0.356302</td>\n",
       "      <td>0.201747</td>\n",
       "      <td>0.315004</td>\n",
       "      <td>0.189396</td>\n",
       "      <td>0.317434</td>\n",
       "      <td>0.120590</td>\n",
       "      <td>0.036419</td>\n",
       "      <td>0.074353</td>\n",
       "      <td>0.197746</td>\n",
       "      <td>0.167583</td>\n",
       "      <td>...</td>\n",
       "      <td>0.376697</td>\n",
       "      <td>0.199971</td>\n",
       "      <td>0.122638</td>\n",
       "      <td>0.281970</td>\n",
       "      <td>0.103165</td>\n",
       "      <td>0.033145</td>\n",
       "      <td>0.196951</td>\n",
       "      <td>0.149926</td>\n",
       "      <td>0.083007</td>\n",
       "      <td>0.01</td>\n",
       "    </tr>\n",
       "    <tr>\n",
       "      <th>4</th>\n",
       "      <td>0.246366</td>\n",
       "      <td>0.208695</td>\n",
       "      <td>0.225702</td>\n",
       "      <td>0.169474</td>\n",
       "      <td>0.246893</td>\n",
       "      <td>0.016489</td>\n",
       "      <td>0.022516</td>\n",
       "      <td>0.053617</td>\n",
       "      <td>0.237646</td>\n",
       "      <td>0.171309</td>\n",
       "      <td>...</td>\n",
       "      <td>0.236763</td>\n",
       "      <td>0.149089</td>\n",
       "      <td>0.111926</td>\n",
       "      <td>0.233303</td>\n",
       "      <td>0.067762</td>\n",
       "      <td>0.037643</td>\n",
       "      <td>0.125773</td>\n",
       "      <td>0.257886</td>\n",
       "      <td>0.056426</td>\n",
       "      <td>0.00</td>\n",
       "    </tr>\n",
       "  </tbody>\n",
       "</table>\n",
       "<p>5 rows × 31 columns</p>\n",
       "</div>"
      ],
      "text/plain": [
       "   mean radius  mean texture  mean perimeter  mean area  mean smoothness  \\\n",
       "0     0.340236      0.381086        0.291604   0.199196         0.250138   \n",
       "1     0.488393      0.398288        0.475289   0.308444         0.388400   \n",
       "2     0.204062      0.199793        0.210265   0.119782         0.272178   \n",
       "3     0.356302      0.201747        0.315004   0.189396         0.317434   \n",
       "4     0.246366      0.208695        0.225702   0.169474         0.246893   \n",
       "\n",
       "   mean compactness  mean concavity  mean concave points  mean symmetry  \\\n",
       "0          0.138912        0.073287             0.064775       0.357013   \n",
       "1          0.356457        0.305122             0.324077       0.449780   \n",
       "2          0.318512        0.230209             0.138935       0.350985   \n",
       "3          0.120590        0.036419             0.074353       0.197746   \n",
       "4          0.016489        0.022516             0.053617       0.237646   \n",
       "\n",
       "   mean fractal dimension  ...  worst texture  worst perimeter  worst area  \\\n",
       "0                0.129585  ...       0.462618         0.238356    0.113923   \n",
       "1                0.116448  ...       0.437361         0.373415    0.254286   \n",
       "2                0.465313  ...       0.164350         0.143276    0.041352   \n",
       "3                0.167583  ...       0.376697         0.199971    0.122638   \n",
       "4                0.171309  ...       0.236763         0.149089    0.111926   \n",
       "\n",
       "   worst smoothness  worst compactness  worst concavity  worst concave points  \\\n",
       "0          0.269197           0.168301         0.189362              0.388916   \n",
       "1          0.610362           0.367501         0.428155              0.625569   \n",
       "2          0.257005           0.247710         0.241722              0.285038   \n",
       "3          0.281970           0.103165         0.033145              0.196951   \n",
       "4          0.233303           0.067762         0.037643              0.125773   \n",
       "\n",
       "   worst symmetry  worst fractal dimension  prediction  \n",
       "0        0.281654                 0.093187        0.17  \n",
       "1        0.637507                 0.195875        1.00  \n",
       "2        0.107353                 0.320860        0.00  \n",
       "3        0.149926                 0.083007        0.01  \n",
       "4        0.257886                 0.056426        0.00  \n",
       "\n",
       "[5 rows x 31 columns]"
      ]
     },
     "execution_count": 168,
     "metadata": {},
     "output_type": "execute_result"
    }
   ],
   "source": [
    "ldr.D.head()"
   ]
  },
  {
   "cell_type": "markdown",
   "metadata": {},
   "source": [
    "Bar Chart Example"
   ]
  },
  {
   "cell_type": "code",
   "execution_count": 169,
   "metadata": {},
   "outputs": [
    {
     "data": {
      "text/plain": [
       "<BarContainer object of 50 artists>"
      ]
     },
     "execution_count": 169,
     "metadata": {},
     "output_type": "execute_result"
    },
    {
     "data": {
      "image/png": "[encoded data removed]",
      "text/plain": [
       "<Figure size 864x576 with 1 Axes>"
      ]
     },
     "metadata": {},
     "output_type": "display_data"
    }
   ],
   "source": [
    "# Select mid values of intervals for x values.\n",
    "Cols = plt.get_cmap(\"Spectral\")\n",
    "bar_vals = ldr.D_bins[features[0]] - 0.5\n",
    "x = [i.mid for i in np.array(bar_vals.keys())]\n",
    "y = bar_vals.values\n",
    "c = [Cols(i+0.5) for i in y]\n",
    "\n",
    "plt.bar(x=x, height=y, width=1 / len(x) * 1.05, color=c)"
   ]
  },
  {
   "cell_type": "markdown",
   "metadata": {},
   "source": [
    "2D contour example"
   ]
  },
  {
   "cell_type": "code",
   "execution_count": 170,
   "metadata": {},
   "outputs": [
    {
     "name": "stdout",
     "output_type": "stream",
     "text": [
      "[0.01 0.03 0.05 0.07 0.09 0.11 0.13 0.15 0.17 0.19 0.21 0.23 0.25 0.27\n",
      " 0.29 0.31 0.33 0.35 0.37 0.39 0.41 0.43 0.45 0.47 0.49 0.51 0.53 0.55\n",
      " 0.57 0.59 0.61 0.63 0.65 0.67 0.69 0.71 0.73 0.75 0.77 0.79 0.81 0.83\n",
      " 0.85 0.87 0.89 0.91 0.93 0.95 0.97 0.99]\n"
     ]
    }
   ],
   "source": [
    "\n",
    "print(mid_points)"
   ]
  },
  {
   "cell_type": "code",
   "execution_count": null,
   "metadata": {},
   "outputs": [],
   "source": []
  },
  {
   "cell_type": "code",
   "execution_count": 171,
   "metadata": {
    "scrolled": true
   },
   "outputs": [
    {
     "data": {
      "text/html": [
       "<div>\n",
       "<style scoped>\n",
       "    .dataframe tbody tr th:only-of-type {\n",
       "        vertical-align: middle;\n",
       "    }\n",
       "\n",
       "    .dataframe tbody tr th {\n",
       "        vertical-align: top;\n",
       "    }\n",
       "\n",
       "    .dataframe thead th {\n",
       "        text-align: right;\n",
       "    }\n",
       "</style>\n",
       "<table border=\"1\" class=\"dataframe\">\n",
       "  <thead>\n",
       "    <tr style=\"text-align: right;\">\n",
       "      <th></th>\n",
       "      <th>mean radius</th>\n",
       "      <th>mean texture</th>\n",
       "      <th>mean perimeter</th>\n",
       "      <th>mean area</th>\n",
       "      <th>mean smoothness</th>\n",
       "      <th>mean compactness</th>\n",
       "      <th>mean concavity</th>\n",
       "      <th>mean concave points</th>\n",
       "      <th>mean symmetry</th>\n",
       "      <th>mean fractal dimension</th>\n",
       "      <th>...</th>\n",
       "      <th>worst texture</th>\n",
       "      <th>worst perimeter</th>\n",
       "      <th>worst area</th>\n",
       "      <th>worst smoothness</th>\n",
       "      <th>worst compactness</th>\n",
       "      <th>worst concavity</th>\n",
       "      <th>worst concave points</th>\n",
       "      <th>worst symmetry</th>\n",
       "      <th>worst fractal dimension</th>\n",
       "      <th>prediction</th>\n",
       "    </tr>\n",
       "  </thead>\n",
       "  <tbody>\n",
       "    <tr>\n",
       "      <th>0</th>\n",
       "      <td>0.340236</td>\n",
       "      <td>0.381086</td>\n",
       "      <td>0.291604</td>\n",
       "      <td>0.199196</td>\n",
       "      <td>0.250138</td>\n",
       "      <td>0.138912</td>\n",
       "      <td>0.073287</td>\n",
       "      <td>0.064775</td>\n",
       "      <td>0.357013</td>\n",
       "      <td>0.129585</td>\n",
       "      <td>...</td>\n",
       "      <td>0.462618</td>\n",
       "      <td>0.238356</td>\n",
       "      <td>0.113923</td>\n",
       "      <td>0.269197</td>\n",
       "      <td>0.168301</td>\n",
       "      <td>0.189362</td>\n",
       "      <td>0.388916</td>\n",
       "      <td>0.281654</td>\n",
       "      <td>0.093187</td>\n",
       "      <td>0.17</td>\n",
       "    </tr>\n",
       "    <tr>\n",
       "      <th>1</th>\n",
       "      <td>0.488393</td>\n",
       "      <td>0.398288</td>\n",
       "      <td>0.475289</td>\n",
       "      <td>0.308444</td>\n",
       "      <td>0.388400</td>\n",
       "      <td>0.356457</td>\n",
       "      <td>0.305122</td>\n",
       "      <td>0.324077</td>\n",
       "      <td>0.449780</td>\n",
       "      <td>0.116448</td>\n",
       "      <td>...</td>\n",
       "      <td>0.437361</td>\n",
       "      <td>0.373415</td>\n",
       "      <td>0.254286</td>\n",
       "      <td>0.610362</td>\n",
       "      <td>0.367501</td>\n",
       "      <td>0.428155</td>\n",
       "      <td>0.625569</td>\n",
       "      <td>0.637507</td>\n",
       "      <td>0.195875</td>\n",
       "      <td>1.00</td>\n",
       "    </tr>\n",
       "    <tr>\n",
       "      <th>2</th>\n",
       "      <td>0.204062</td>\n",
       "      <td>0.199793</td>\n",
       "      <td>0.210265</td>\n",
       "      <td>0.119782</td>\n",
       "      <td>0.272178</td>\n",
       "      <td>0.318512</td>\n",
       "      <td>0.230209</td>\n",
       "      <td>0.138935</td>\n",
       "      <td>0.350985</td>\n",
       "      <td>0.465313</td>\n",
       "      <td>...</td>\n",
       "      <td>0.164350</td>\n",
       "      <td>0.143276</td>\n",
       "      <td>0.041352</td>\n",
       "      <td>0.257005</td>\n",
       "      <td>0.247710</td>\n",
       "      <td>0.241722</td>\n",
       "      <td>0.285038</td>\n",
       "      <td>0.107353</td>\n",
       "      <td>0.320860</td>\n",
       "      <td>0.00</td>\n",
       "    </tr>\n",
       "    <tr>\n",
       "      <th>3</th>\n",
       "      <td>0.356302</td>\n",
       "      <td>0.201747</td>\n",
       "      <td>0.315004</td>\n",
       "      <td>0.189396</td>\n",
       "      <td>0.317434</td>\n",
       "      <td>0.120590</td>\n",
       "      <td>0.036419</td>\n",
       "      <td>0.074353</td>\n",
       "      <td>0.197746</td>\n",
       "      <td>0.167583</td>\n",
       "      <td>...</td>\n",
       "      <td>0.376697</td>\n",
       "      <td>0.199971</td>\n",
       "      <td>0.122638</td>\n",
       "      <td>0.281970</td>\n",
       "      <td>0.103165</td>\n",
       "      <td>0.033145</td>\n",
       "      <td>0.196951</td>\n",
       "      <td>0.149926</td>\n",
       "      <td>0.083007</td>\n",
       "      <td>0.01</td>\n",
       "    </tr>\n",
       "    <tr>\n",
       "      <th>4</th>\n",
       "      <td>0.246366</td>\n",
       "      <td>0.208695</td>\n",
       "      <td>0.225702</td>\n",
       "      <td>0.169474</td>\n",
       "      <td>0.246893</td>\n",
       "      <td>0.016489</td>\n",
       "      <td>0.022516</td>\n",
       "      <td>0.053617</td>\n",
       "      <td>0.237646</td>\n",
       "      <td>0.171309</td>\n",
       "      <td>...</td>\n",
       "      <td>0.236763</td>\n",
       "      <td>0.149089</td>\n",
       "      <td>0.111926</td>\n",
       "      <td>0.233303</td>\n",
       "      <td>0.067762</td>\n",
       "      <td>0.037643</td>\n",
       "      <td>0.125773</td>\n",
       "      <td>0.257886</td>\n",
       "      <td>0.056426</td>\n",
       "      <td>0.00</td>\n",
       "    </tr>\n",
       "  </tbody>\n",
       "</table>\n",
       "<p>5 rows × 31 columns</p>\n",
       "</div>"
      ],
      "text/plain": [
       "   mean radius  mean texture  mean perimeter  mean area  mean smoothness  \\\n",
       "0     0.340236      0.381086        0.291604   0.199196         0.250138   \n",
       "1     0.488393      0.398288        0.475289   0.308444         0.388400   \n",
       "2     0.204062      0.199793        0.210265   0.119782         0.272178   \n",
       "3     0.356302      0.201747        0.315004   0.189396         0.317434   \n",
       "4     0.246366      0.208695        0.225702   0.169474         0.246893   \n",
       "\n",
       "   mean compactness  mean concavity  mean concave points  mean symmetry  \\\n",
       "0          0.138912        0.073287             0.064775       0.357013   \n",
       "1          0.356457        0.305122             0.324077       0.449780   \n",
       "2          0.318512        0.230209             0.138935       0.350985   \n",
       "3          0.120590        0.036419             0.074353       0.197746   \n",
       "4          0.016489        0.022516             0.053617       0.237646   \n",
       "\n",
       "   mean fractal dimension  ...  worst texture  worst perimeter  worst area  \\\n",
       "0                0.129585  ...       0.462618         0.238356    0.113923   \n",
       "1                0.116448  ...       0.437361         0.373415    0.254286   \n",
       "2                0.465313  ...       0.164350         0.143276    0.041352   \n",
       "3                0.167583  ...       0.376697         0.199971    0.122638   \n",
       "4                0.171309  ...       0.236763         0.149089    0.111926   \n",
       "\n",
       "   worst smoothness  worst compactness  worst concavity  worst concave points  \\\n",
       "0          0.269197           0.168301         0.189362              0.388916   \n",
       "1          0.610362           0.367501         0.428155              0.625569   \n",
       "2          0.257005           0.247710         0.241722              0.285038   \n",
       "3          0.281970           0.103165         0.033145              0.196951   \n",
       "4          0.233303           0.067762         0.037643              0.125773   \n",
       "\n",
       "   worst symmetry  worst fractal dimension  prediction  \n",
       "0        0.281654                 0.093187        0.17  \n",
       "1        0.637507                 0.195875        1.00  \n",
       "2        0.107353                 0.320860        0.00  \n",
       "3        0.149926                 0.083007        0.01  \n",
       "4        0.257886                 0.056426        0.00  \n",
       "\n",
       "[5 rows x 31 columns]"
      ]
     },
     "execution_count": 171,
     "metadata": {},
     "output_type": "execute_result"
    }
   ],
   "source": [
    "ldr.D.head()"
   ]
  },
  {
   "cell_type": "code",
   "execution_count": 172,
   "metadata": {
    "scrolled": false
   },
   "outputs": [
    {
     "name": "stdout",
     "output_type": "stream",
     "text": [
      "mesh complete\n"
     ]
    },
    {
     "data": {
      "image/png": "[encoded data removed]",
      "text/plain": [
       "<Figure size 864x576 with 1 Axes>"
      ]
     },
     "metadata": {},
     "output_type": "display_data"
    }
   ],
   "source": [
    "# Create an entry matrix first.\n",
    "col1, col2, colp = \"mean radius\", \"mean concave points\", \"prediction\"\n",
    "res_sub = np.linspace(0.0, 1.0, ldr.n_bins)\n",
    "Zm = [[[] for i in res_sub] for j in res_sub]\n",
    "\n",
    "# Find midpoints of each bin.\n",
    "mid_points = np.array([i.mid for i in ldr.D_bins.index])\n",
    "\n",
    "# Finds nearest point of a value in an array.\n",
    "def find_nearest(array, value):\n",
    "    array = np.asarray(array)\n",
    "    idx = (np.abs(array - value)).argmin()\n",
    "    return array[idx]\n",
    "\n",
    "# Go through each prediction based on KDE and put into nearest bin.\n",
    "for d, d_val in ldr.D.iterrows():\n",
    "    col1_ind = int(find_nearest(mid_points, d_val[col1]) * (ldr.n_bins - 1) - 0.5)\n",
    "    col2_ind = int(find_nearest(mid_points, d_val[col2]) * (ldr.n_bins - 1) - 0.5)\n",
    "    Zm[col1_ind][col2_ind].append(d_val[\"prediction\"])\n",
    "\n",
    "# Take the mean of value, move down to mid at 0, make outliers 100 so not drawn.\n",
    "Zm = [[np.mean(Zm[i][j]) - 0.5 if len(Zm[i][j]) > 0 else 100\n",
    "       for i in range(ldr.n_bins)] for j in range(ldr.n_bins)]\n",
    "\n",
    "colors = plt.get_cmap(\"Spectral\")\n",
    "\n",
    "Xm, Ym = np.meshgrid(res_sub, res_sub)\n",
    "print(\"mesh complete\")\n",
    "plt.contourf(Xm, Ym, Zm, levels=np.linspace(-0.5, 0.5, 41), cmap=\"Spectral\")\n",
    "plt.scatter(ldr.scaled_w[col1],\n",
    "            ldr.scaled_w[col2],\n",
    "                   c=colors(ldr.scaled_w_preds),\n",
    "#                    c=\"#ff0000\",\n",
    "                   marker=\"x\",\n",
    "                   alpha=0.75,\n",
    "                   zorder=1)\n",
    "plt.show()"
   ]
  },
  {
   "cell_type": "code",
   "execution_count": 126,
   "metadata": {
    "scrolled": false
   },
   "outputs": [
    {
     "name": "stderr",
     "output_type": "stream",
     "text": [
      "findfont: Font family ['sans-serif'] not found. Falling back to DejaVu Sans.\n",
      "findfont: Font family ['sans-serif'] not found. Falling back to DejaVu Sans.\n"
     ]
    },
    {
     "data": {
      "image/png": "[encoded data removed]",
      "text/plain": [
       "<Figure size 576x288 with 1 Axes>"
      ]
     },
     "metadata": {},
     "output_type": "display_data"
    }
   ],
   "source": [
    "ldr.density_scatter(\"worst area\")"
   ]
  },
  {
   "cell_type": "code",
   "execution_count": null,
   "metadata": {},
   "outputs": [],
   "source": [
    "ldr.scatter_plot_matrix(features)"
   ]
  },
  {
   "cell_type": "code",
   "execution_count": null,
   "metadata": {},
   "outputs": [],
   "source": [
    "ldr.vis_1d(figsize=(32, 8))"
   ]
  },
  {
   "cell_type": "markdown",
   "metadata": {},
   "source": [
    "Everything red will be classified as malignant, everything blue will be classified as benign."
   ]
  },
  {
   "cell_type": "code",
   "execution_count": null,
   "metadata": {
    "scrolled": true
   },
   "outputs": [],
   "source": [
    "ldr.vis_2d()"
   ]
  },
  {
   "cell_type": "markdown",
   "metadata": {},
   "source": [
    "### One Class SVM\n",
    "Used for outlier detection/estimating a learning frontier. The SVM is set to use 10% of points estimated as outliers to set the learning frontier."
   ]
  },
  {
   "cell_type": "code",
   "execution_count": null,
   "metadata": {},
   "outputs": [],
   "source": [
    "oc_clf = OneClassSVM(gamma='auto', nu=0.1).fit(X_train)"
   ]
  },
  {
   "cell_type": "code",
   "execution_count": null,
   "metadata": {},
   "outputs": [],
   "source": [
    "def oc_clf_func(df):\n",
    "    pred = oc_clf.predict(df)\n",
    "    return [(i + 1) / 2 for i in pred]"
   ]
  },
  {
   "cell_type": "code",
   "execution_count": null,
   "metadata": {},
   "outputs": [],
   "source": [
    "tst = oc_clf_func(X_train)\n",
    "pd.Series(tst).value_counts()"
   ]
  },
  {
   "cell_type": "code",
   "execution_count": null,
   "metadata": {},
   "outputs": [],
   "source": [
    "ldr.density_estimate(oc_clf_func, n=10000)"
   ]
  },
  {
   "cell_type": "code",
   "execution_count": null,
   "metadata": {},
   "outputs": [],
   "source": [
    "ldr.density_scatter(\"mean smoothness\")"
   ]
  },
  {
   "cell_type": "code",
   "execution_count": null,
   "metadata": {},
   "outputs": [],
   "source": [
    "ldr.select_1d_bins(features, n_bins=25)"
   ]
  },
  {
   "cell_type": "code",
   "execution_count": null,
   "metadata": {},
   "outputs": [],
   "source": [
    "ldr.scatter_plot_matrix(features)"
   ]
  },
  {
   "cell_type": "code",
   "execution_count": null,
   "metadata": {
    "scrolled": true
   },
   "outputs": [],
   "source": [
    "ldr.vis_1d(figsize=(32, 8))"
   ]
  },
  {
   "cell_type": "markdown",
   "metadata": {},
   "source": [
    "Red will be classified as within range of the classifier, while blue will be classified as outliers."
   ]
  },
  {
   "cell_type": "code",
   "execution_count": null,
   "metadata": {},
   "outputs": [],
   "source": [
    "ldr.vis_2d()"
   ]
  },
  {
   "cell_type": "markdown",
   "metadata": {},
   "source": [
    "## Random Forest Classifier and Outlier Detection Superposition"
   ]
  },
  {
   "cell_type": "code",
   "execution_count": null,
   "metadata": {},
   "outputs": [],
   "source": [
    "def oc_rf_clf_func(df):\n",
    "    oc_pred = oc_clf_func(df)\n",
    "    rf_pred = rf_clf_func(df)\n",
    "    return [(rf_pred[i] - 0.5) * i_val + 0.5 for i, i_val in enumerate(oc_pred)]"
   ]
  },
  {
   "cell_type": "code",
   "execution_count": null,
   "metadata": {},
   "outputs": [],
   "source": [
    "tst = oc_rf_clf_func(X_train[:30])\n",
    "print(tst[:30])"
   ]
  },
  {
   "cell_type": "code",
   "execution_count": null,
   "metadata": {},
   "outputs": [],
   "source": [
    "ldr.density_estimate(oc_rf_clf_func, n=10000)"
   ]
  },
  {
   "cell_type": "code",
   "execution_count": null,
   "metadata": {
    "scrolled": true
   },
   "outputs": [],
   "source": [
    "ldr.density_scatter(features[1])"
   ]
  },
  {
   "cell_type": "code",
   "execution_count": null,
   "metadata": {},
   "outputs": [],
   "source": [
    "ldr.select_1d_bins(features, n_bins=25)"
   ]
  },
  {
   "cell_type": "code",
   "execution_count": null,
   "metadata": {},
   "outputs": [],
   "source": [
    "ldr.vis_1d(figsize=(32, 8))"
   ]
  },
  {
   "cell_type": "markdown",
   "metadata": {},
   "source": [
    "The areas where the classifier is uncertain have been superposed with the areas where samples are taken where training data is not present. The dark colours are strong indicates of good quality accross dimensions."
   ]
  },
  {
   "cell_type": "code",
   "execution_count": null,
   "metadata": {},
   "outputs": [],
   "source": [
    "ldr.vis_2d()"
   ]
  },
  {
   "cell_type": "markdown",
   "metadata": {},
   "source": [
    "## Neural Network"
   ]
  },
  {
   "cell_type": "code",
   "execution_count": null,
   "metadata": {},
   "outputs": [],
   "source": [
    "import torch\n",
    "import torch.nn as nn\n",
    "import torch.nn.functional as F\n",
    "import torch.optim as optim"
   ]
  },
  {
   "cell_type": "code",
   "execution_count": null,
   "metadata": {},
   "outputs": [],
   "source": [
    "class Net(nn.Module):\n",
    "    def __init__(self):\n",
    "        super(Net, self).__init__()\n",
    "        # 30 dimensions go in, 2 go out. The 2 coming out are the two\n",
    "        # different classes available.\n",
    "        self.fc1 = nn.Linear(X_train.shape[1], 3)\n",
    "        self.fc2 = nn.Linear(3, 2)\n",
    "\n",
    "    def forward(self, x):\n",
    "        x = self.fc1(x)\n",
    "        x = F.tanh(x)\n",
    "        x = self.fc2(x)\n",
    "        return x\n",
    "\n",
    "    def predict(self, x):\n",
    "        # Calculate probabilities of each class.\n",
    "        pred = F.softmax(self.forward(x))\n",
    "        \n",
    "        # Return the largest weighted class.\n",
    "        return torch.tensor([0 if i[0] > i[1] else 1 for i in pred])\n",
    "    \n",
    "    def predict_proba(self, x):\n",
    "        # Calculate probabilities of each class.\n",
    "        pred = F.softmax(self.forward(x))\n",
    "        \n",
    "        # Return the largest weighted class.\n",
    "        return torch.tensor([i[1] / (i[0] + i[1]) for i in pred])"
   ]
  },
  {
   "cell_type": "markdown",
   "metadata": {},
   "source": [
    "This may need to be rerun to prevent the stochastic trap."
   ]
  },
  {
   "cell_type": "code",
   "execution_count": null,
   "metadata": {
    "scrolled": true
   },
   "outputs": [],
   "source": [
    "net = Net()\n",
    "\n",
    "# Prepare data for neural network.\n",
    "inputs = torch.FloatTensor(X_train.values)\n",
    "labels = torch.LongTensor([1 if i == \"malignant\" else 0 for i in y_train])\n",
    "\n",
    "# Optimizer to speed things up, cross entropy loss as it is a classifcation problem.\n",
    "criterion = nn.CrossEntropyLoss()\n",
    "optimizer = optim.Adam(net.parameters(), lr=0.01)\n",
    "epochs = 30000\n",
    "\n",
    "losses = []\n",
    "for epoch in range(epochs):\n",
    "    outputs = net.forward(inputs)\n",
    "    loss = criterion(outputs, labels)\n",
    "    losses.append(loss)\n",
    "    optimizer.zero_grad()\n",
    "    loss.backward()\n",
    "    optimizer.step()\n",
    "    if epoch % 1000 == 0:\n",
    "        print(\"epoch:\", epoch, \"loss:\", loss)\n",
    "    \n",
    "print('Finished Training ')"
   ]
  },
  {
   "cell_type": "markdown",
   "metadata": {},
   "source": [
    "Test NN accuracy."
   ]
  },
  {
   "cell_type": "code",
   "execution_count": null,
   "metadata": {},
   "outputs": [],
   "source": [
    "test_input = torch.FloatTensor(X_test.values)\n",
    "preds = np.array(net.predict(test_input))\n",
    "test_labels = [1 if i == \"malignant\" else 0 for i in y_test]\n",
    "print(preds)\n",
    "print(\"F1 score:\", f1_score(test_labels, preds, pos_label=1))\n",
    "print(\"Confusion matrix:\")\n",
    "print(confusion_matrix(test_labels, preds))"
   ]
  },
  {
   "cell_type": "markdown",
   "metadata": {},
   "source": [
    "The actual classifier function uses the raw certainty of the model."
   ]
  },
  {
   "cell_type": "code",
   "execution_count": null,
   "metadata": {},
   "outputs": [],
   "source": [
    "preds = np.array(net.predict_proba(test_input))\n",
    "for i in zip(preds, test_labels):\n",
    "    print(i)"
   ]
  },
  {
   "cell_type": "code",
   "execution_count": null,
   "metadata": {},
   "outputs": [],
   "source": [
    "# Certainty \n",
    "def nn_clf_func(df):\n",
    "    test_tensor = torch.FloatTensor(df.values)\n",
    "    return np.array(net.predict_proba(test_tensor))"
   ]
  },
  {
   "cell_type": "code",
   "execution_count": null,
   "metadata": {},
   "outputs": [],
   "source": [
    "ldr.density_estimate(nn_clf_func, n=10000)"
   ]
  },
  {
   "cell_type": "code",
   "execution_count": null,
   "metadata": {},
   "outputs": [],
   "source": [
    "ldr.density_scatter(\"worst area\")"
   ]
  },
  {
   "cell_type": "code",
   "execution_count": null,
   "metadata": {},
   "outputs": [],
   "source": [
    "ldr.select_1d_bins(features, n_bins=25)\n",
    "ldr.vis_1d(figsize=(32, 8))\n",
    "ldr.vis_2d()"
   ]
  },
  {
   "cell_type": "markdown",
   "metadata": {},
   "source": [
    "## NN Classifier and Outlier Detection Superposition"
   ]
  },
  {
   "cell_type": "code",
   "execution_count": null,
   "metadata": {},
   "outputs": [],
   "source": [
    "# Certainty \n",
    "def oc_nn_clf_func(df):\n",
    "    oc_pred = oc_clf_func(df)\n",
    "    nn_pred = nn_clf_func(df)\n",
    "    return [(nn_pred[i] - 0.5) * i_val + 0.5 for i, i_val in enumerate(oc_pred)]"
   ]
  },
  {
   "cell_type": "code",
   "execution_count": null,
   "metadata": {},
   "outputs": [],
   "source": [
    "tst = oc_nn_clf_func(X_train)\n",
    "print(tst[:30])"
   ]
  },
  {
   "cell_type": "code",
   "execution_count": null,
   "metadata": {
    "scrolled": false
   },
   "outputs": [],
   "source": [
    "ldr.density_estimate(oc_nn_clf_func, n=10000)\n",
    "ldr.density_scatter(features[1])\n",
    "ldr.vis_1d_separate(\"Breast Cancer Feature Effects on Diagnosis\")\n",
    "ldr.select_1d_bins(features, n_bins=50)\n",
    "ldr.vis_1d(figsize=(32, 8))\n",
    "ldr.vis_2d()"
   ]
  },
  {
   "cell_type": "code",
   "execution_count": null,
   "metadata": {
    "scrolled": false
   },
   "outputs": [],
   "source": []
  }
 ],
 "metadata": {
  "kernelspec": {
   "display_name": "Python 3",
   "language": "python",
   "name": "python3"
  },
  "language_info": {
   "codemirror_mode": {
    "name": "ipython",
    "version": 3
   },
   "file_extension": ".py",
   "mimetype": "text/x-python",
   "name": "python",
   "nbconvert_exporter": "python",
   "pygments_lexer": "ipython3",
   "version": "3.7.4"
  }
 },
 "nbformat": 4,
 "nbformat_minor": 2
}
