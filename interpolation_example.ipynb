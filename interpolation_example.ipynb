{
 "cells": [
  {
   "cell_type": "markdown",
   "metadata": {},
   "source": [
    "# Classification Example\n",
    "Latent Dimensionality Reduction applied to the [Wisconsin breat cancer data set](https://scikit-learn.org/stable/modules/generated/sklearn.datasets.load_breast_cancer.html)."
   ]
  },
  {
   "cell_type": "markdown",
   "metadata": {},
   "source": [
    "Useful because of the ability to backtrack from a model, and identify what metrics are significant indicators of issues."
   ]
  },
  {
   "cell_type": "code",
   "execution_count": 48,
   "metadata": {},
   "outputs": [],
   "source": [
    "import numpy as np\n",
    "import pandas as pd\n",
    "import matplotlib.pyplot as plt\n",
    "from sklearn.datasets import load_breast_cancer\n",
    "from sklearn.ensemble import RandomForestClassifier\n",
    "from sklearn.model_selection import train_test_split\n",
    "from sklearn.metrics import f1_score, confusion_matrix\n",
    "from sklearn.svm import OneClassSVM\n",
    "from sklearn import svm\n",
    "from sklearn.neighbors import KernelDensity\n",
    "\n",
    "from ldr import LDR"
   ]
  },
  {
   "cell_type": "code",
   "execution_count": 49,
   "metadata": {},
   "outputs": [],
   "source": [
    "plt.style.use(\"illumina.mplstyle\")"
   ]
  },
  {
   "cell_type": "markdown",
   "metadata": {},
   "source": [
    "## Preprocessing"
   ]
  },
  {
   "cell_type": "markdown",
   "metadata": {},
   "source": [
    "Load dataset. The breast cancer data set is used as it has a good number of samples for model training, and a number of dimensions that will result in a significantly difficult to interpret model."
   ]
  },
  {
   "cell_type": "code",
   "execution_count": 50,
   "metadata": {
    "scrolled": false
   },
   "outputs": [
    {
     "name": "stdout",
     "output_type": "stream",
     "text": [
      "benign       357\n",
      "malignant    212\n",
      "Name: species, dtype: int64\n",
      "Shape: (569, 31)\n"
     ]
    },
    {
     "data": {
      "text/html": [
       "<div>\n",
       "<style scoped>\n",
       "    .dataframe tbody tr th:only-of-type {\n",
       "        vertical-align: middle;\n",
       "    }\n",
       "\n",
       "    .dataframe tbody tr th {\n",
       "        vertical-align: top;\n",
       "    }\n",
       "\n",
       "    .dataframe thead th {\n",
       "        text-align: right;\n",
       "    }\n",
       "</style>\n",
       "<table border=\"1\" class=\"dataframe\">\n",
       "  <thead>\n",
       "    <tr style=\"text-align: right;\">\n",
       "      <th></th>\n",
       "      <th>mean radius</th>\n",
       "      <th>mean texture</th>\n",
       "      <th>mean perimeter</th>\n",
       "      <th>mean area</th>\n",
       "      <th>mean smoothness</th>\n",
       "      <th>mean compactness</th>\n",
       "      <th>mean concavity</th>\n",
       "      <th>mean concave points</th>\n",
       "      <th>mean symmetry</th>\n",
       "      <th>mean fractal dimension</th>\n",
       "      <th>...</th>\n",
       "      <th>worst texture</th>\n",
       "      <th>worst perimeter</th>\n",
       "      <th>worst area</th>\n",
       "      <th>worst smoothness</th>\n",
       "      <th>worst compactness</th>\n",
       "      <th>worst concavity</th>\n",
       "      <th>worst concave points</th>\n",
       "      <th>worst symmetry</th>\n",
       "      <th>worst fractal dimension</th>\n",
       "      <th>species</th>\n",
       "    </tr>\n",
       "  </thead>\n",
       "  <tbody>\n",
       "    <tr>\n",
       "      <th>0</th>\n",
       "      <td>17.99</td>\n",
       "      <td>10.38</td>\n",
       "      <td>122.80</td>\n",
       "      <td>1001.0</td>\n",
       "      <td>0.11840</td>\n",
       "      <td>0.27760</td>\n",
       "      <td>0.3001</td>\n",
       "      <td>0.14710</td>\n",
       "      <td>0.2419</td>\n",
       "      <td>0.07871</td>\n",
       "      <td>...</td>\n",
       "      <td>17.33</td>\n",
       "      <td>184.60</td>\n",
       "      <td>2019.0</td>\n",
       "      <td>0.1622</td>\n",
       "      <td>0.6656</td>\n",
       "      <td>0.7119</td>\n",
       "      <td>0.2654</td>\n",
       "      <td>0.4601</td>\n",
       "      <td>0.11890</td>\n",
       "      <td>malignant</td>\n",
       "    </tr>\n",
       "    <tr>\n",
       "      <th>1</th>\n",
       "      <td>20.57</td>\n",
       "      <td>17.77</td>\n",
       "      <td>132.90</td>\n",
       "      <td>1326.0</td>\n",
       "      <td>0.08474</td>\n",
       "      <td>0.07864</td>\n",
       "      <td>0.0869</td>\n",
       "      <td>0.07017</td>\n",
       "      <td>0.1812</td>\n",
       "      <td>0.05667</td>\n",
       "      <td>...</td>\n",
       "      <td>23.41</td>\n",
       "      <td>158.80</td>\n",
       "      <td>1956.0</td>\n",
       "      <td>0.1238</td>\n",
       "      <td>0.1866</td>\n",
       "      <td>0.2416</td>\n",
       "      <td>0.1860</td>\n",
       "      <td>0.2750</td>\n",
       "      <td>0.08902</td>\n",
       "      <td>malignant</td>\n",
       "    </tr>\n",
       "    <tr>\n",
       "      <th>2</th>\n",
       "      <td>19.69</td>\n",
       "      <td>21.25</td>\n",
       "      <td>130.00</td>\n",
       "      <td>1203.0</td>\n",
       "      <td>0.10960</td>\n",
       "      <td>0.15990</td>\n",
       "      <td>0.1974</td>\n",
       "      <td>0.12790</td>\n",
       "      <td>0.2069</td>\n",
       "      <td>0.05999</td>\n",
       "      <td>...</td>\n",
       "      <td>25.53</td>\n",
       "      <td>152.50</td>\n",
       "      <td>1709.0</td>\n",
       "      <td>0.1444</td>\n",
       "      <td>0.4245</td>\n",
       "      <td>0.4504</td>\n",
       "      <td>0.2430</td>\n",
       "      <td>0.3613</td>\n",
       "      <td>0.08758</td>\n",
       "      <td>malignant</td>\n",
       "    </tr>\n",
       "    <tr>\n",
       "      <th>3</th>\n",
       "      <td>11.42</td>\n",
       "      <td>20.38</td>\n",
       "      <td>77.58</td>\n",
       "      <td>386.1</td>\n",
       "      <td>0.14250</td>\n",
       "      <td>0.28390</td>\n",
       "      <td>0.2414</td>\n",
       "      <td>0.10520</td>\n",
       "      <td>0.2597</td>\n",
       "      <td>0.09744</td>\n",
       "      <td>...</td>\n",
       "      <td>26.50</td>\n",
       "      <td>98.87</td>\n",
       "      <td>567.7</td>\n",
       "      <td>0.2098</td>\n",
       "      <td>0.8663</td>\n",
       "      <td>0.6869</td>\n",
       "      <td>0.2575</td>\n",
       "      <td>0.6638</td>\n",
       "      <td>0.17300</td>\n",
       "      <td>malignant</td>\n",
       "    </tr>\n",
       "    <tr>\n",
       "      <th>4</th>\n",
       "      <td>20.29</td>\n",
       "      <td>14.34</td>\n",
       "      <td>135.10</td>\n",
       "      <td>1297.0</td>\n",
       "      <td>0.10030</td>\n",
       "      <td>0.13280</td>\n",
       "      <td>0.1980</td>\n",
       "      <td>0.10430</td>\n",
       "      <td>0.1809</td>\n",
       "      <td>0.05883</td>\n",
       "      <td>...</td>\n",
       "      <td>16.67</td>\n",
       "      <td>152.20</td>\n",
       "      <td>1575.0</td>\n",
       "      <td>0.1374</td>\n",
       "      <td>0.2050</td>\n",
       "      <td>0.4000</td>\n",
       "      <td>0.1625</td>\n",
       "      <td>0.2364</td>\n",
       "      <td>0.07678</td>\n",
       "      <td>malignant</td>\n",
       "    </tr>\n",
       "  </tbody>\n",
       "</table>\n",
       "<p>5 rows × 31 columns</p>\n",
       "</div>"
      ],
      "text/plain": [
       "   mean radius  mean texture  mean perimeter  mean area  mean smoothness  \\\n",
       "0        17.99         10.38          122.80     1001.0          0.11840   \n",
       "1        20.57         17.77          132.90     1326.0          0.08474   \n",
       "2        19.69         21.25          130.00     1203.0          0.10960   \n",
       "3        11.42         20.38           77.58      386.1          0.14250   \n",
       "4        20.29         14.34          135.10     1297.0          0.10030   \n",
       "\n",
       "   mean compactness  mean concavity  mean concave points  mean symmetry  \\\n",
       "0           0.27760          0.3001              0.14710         0.2419   \n",
       "1           0.07864          0.0869              0.07017         0.1812   \n",
       "2           0.15990          0.1974              0.12790         0.2069   \n",
       "3           0.28390          0.2414              0.10520         0.2597   \n",
       "4           0.13280          0.1980              0.10430         0.1809   \n",
       "\n",
       "   mean fractal dimension  ...  worst texture  worst perimeter  worst area  \\\n",
       "0                 0.07871  ...          17.33           184.60      2019.0   \n",
       "1                 0.05667  ...          23.41           158.80      1956.0   \n",
       "2                 0.05999  ...          25.53           152.50      1709.0   \n",
       "3                 0.09744  ...          26.50            98.87       567.7   \n",
       "4                 0.05883  ...          16.67           152.20      1575.0   \n",
       "\n",
       "   worst smoothness  worst compactness  worst concavity  worst concave points  \\\n",
       "0            0.1622             0.6656           0.7119                0.2654   \n",
       "1            0.1238             0.1866           0.2416                0.1860   \n",
       "2            0.1444             0.4245           0.4504                0.2430   \n",
       "3            0.2098             0.8663           0.6869                0.2575   \n",
       "4            0.1374             0.2050           0.4000                0.1625   \n",
       "\n",
       "   worst symmetry  worst fractal dimension    species  \n",
       "0          0.4601                  0.11890  malignant  \n",
       "1          0.2750                  0.08902  malignant  \n",
       "2          0.3613                  0.08758  malignant  \n",
       "3          0.6638                  0.17300  malignant  \n",
       "4          0.2364                  0.07678  malignant  \n",
       "\n",
       "[5 rows x 31 columns]"
      ]
     },
     "execution_count": 50,
     "metadata": {},
     "output_type": "execute_result"
    }
   ],
   "source": [
    "data = load_breast_cancer()\n",
    "df = pd.DataFrame(data.data, columns=data.feature_names)\n",
    "df[\"species\"] = pd.Categorical.from_codes(data.target, data.target_names)\n",
    "print(df[\"species\"].value_counts())\n",
    "print(\"Shape:\", df.shape)\n",
    "df.head()"
   ]
  },
  {
   "cell_type": "code",
   "execution_count": 51,
   "metadata": {},
   "outputs": [],
   "source": [
    "# pos = df[df[\"species\"] == \"malignant\"][:int(df.shape[0] * 0.2)]\n",
    "pos = df[df[\"species\"] == \"malignant\"]\n",
    "neg = df[df[\"species\"] == \"benign\"]\n",
    "df = pd.concat([pos, neg])"
   ]
  },
  {
   "cell_type": "code",
   "execution_count": 52,
   "metadata": {
    "scrolled": true
   },
   "outputs": [
    {
     "name": "stdout",
     "output_type": "stream",
     "text": [
      "(357, 31) (212, 31)\n"
     ]
    }
   ],
   "source": [
    "print(neg.shape, pos.shape)"
   ]
  },
  {
   "cell_type": "markdown",
   "metadata": {},
   "source": [
    "Drop species as this is the target."
   ]
  },
  {
   "cell_type": "code",
   "execution_count": 53,
   "metadata": {},
   "outputs": [],
   "source": [
    "targets = df[\"species\"]\n",
    "df = df.drop([\"species\"], axis=1)"
   ]
  },
  {
   "cell_type": "markdown",
   "metadata": {},
   "source": [
    "Scale the data."
   ]
  },
  {
   "cell_type": "code",
   "execution_count": 54,
   "metadata": {},
   "outputs": [
    {
     "name": "stdout",
     "output_type": "stream",
     "text": [
      "Class balance fixed, Negatives: 357 , Positives: 357\n"
     ]
    }
   ],
   "source": [
    "ldr = LDR(df, targets, \"benign\", \"malignant\")"
   ]
  },
  {
   "cell_type": "code",
   "execution_count": 55,
   "metadata": {},
   "outputs": [],
   "source": [
    "# ldr.scatter_plot_matrix()"
   ]
  },
  {
   "cell_type": "code",
   "execution_count": 56,
   "metadata": {},
   "outputs": [
    {
     "name": "stdout",
     "output_type": "stream",
     "text": [
      "F1 score: 0.9746835443037976\n",
      "Confusion matrix:\n",
      "[[107   1]\n",
      " [  3  77]]\n"
     ]
    }
   ],
   "source": [
    "# Train classifier and check accuracy.\n",
    "X_train, X_test, y_train, y_test = train_test_split(\n",
    "    ldr.scaled, ldr.targets, test_size=0.33, random_state=42)\n",
    "rf_clf = RandomForestClassifier(n_estimators=100, random_state=42)\n",
    "rf_clf.fit(X_train, y_train)\n",
    "preds = rf_clf.predict(X_test)\n",
    "print(\"F1 score:\", f1_score(y_test, preds, pos_label=\"malignant\"))\n",
    "print(\"Confusion matrix:\")\n",
    "print(confusion_matrix(y_test, preds))"
   ]
  },
  {
   "cell_type": "markdown",
   "metadata": {},
   "source": [
    "## Classifier Training and Analysis"
   ]
  },
  {
   "cell_type": "markdown",
   "metadata": {},
   "source": [
    "### Random Forests"
   ]
  },
  {
   "cell_type": "code",
   "execution_count": 57,
   "metadata": {},
   "outputs": [],
   "source": [
    "def rf_clf_func(df):\n",
    "    proba = rf_clf.predict_proba(df)\n",
    "    return np.array([i[1] for i in proba])"
   ]
  },
  {
   "cell_type": "code",
   "execution_count": 58,
   "metadata": {},
   "outputs": [],
   "source": [
    "ldr.density_estimate(rf_clf_func, n=10000, k_dens=0.01, n_bins=50)"
   ]
  },
  {
   "cell_type": "markdown",
   "metadata": {},
   "source": [
    "Select 5 most important features to visualize."
   ]
  },
  {
   "cell_type": "code",
   "execution_count": 59,
   "metadata": {},
   "outputs": [],
   "source": [
    "# features = [(f, i) for f, i in zip(X_train.columns, rf_clf.feature_importances_)]   \n",
    "# features.sort(key=lambda x: x[1], reverse=True)\n",
    "# features = [i[0] for i in features[:5]]\n",
    "# print(features)\n",
    "\n",
    "features = [\"mean area\", \"mean symmetry\", \"mean compactness\"]\n",
    "\n",
    "ldr.select_1d_bins(features, n_bins=25)"
   ]
  },
  {
   "cell_type": "code",
   "execution_count": 60,
   "metadata": {
    "scrolled": true
   },
   "outputs": [
    {
     "data": {
      "text/html": [
       "<div>\n",
       "<style scoped>\n",
       "    .dataframe tbody tr th:only-of-type {\n",
       "        vertical-align: middle;\n",
       "    }\n",
       "\n",
       "    .dataframe tbody tr th {\n",
       "        vertical-align: top;\n",
       "    }\n",
       "\n",
       "    .dataframe thead th {\n",
       "        text-align: right;\n",
       "    }\n",
       "</style>\n",
       "<table border=\"1\" class=\"dataframe\">\n",
       "  <thead>\n",
       "    <tr style=\"text-align: right;\">\n",
       "      <th></th>\n",
       "      <th>mean radius</th>\n",
       "      <th>mean texture</th>\n",
       "      <th>mean perimeter</th>\n",
       "      <th>mean area</th>\n",
       "      <th>mean smoothness</th>\n",
       "      <th>mean compactness</th>\n",
       "      <th>mean concavity</th>\n",
       "      <th>mean concave points</th>\n",
       "      <th>mean symmetry</th>\n",
       "      <th>mean fractal dimension</th>\n",
       "      <th>...</th>\n",
       "      <th>worst texture</th>\n",
       "      <th>worst perimeter</th>\n",
       "      <th>worst area</th>\n",
       "      <th>worst smoothness</th>\n",
       "      <th>worst compactness</th>\n",
       "      <th>worst concavity</th>\n",
       "      <th>worst concave points</th>\n",
       "      <th>worst symmetry</th>\n",
       "      <th>worst fractal dimension</th>\n",
       "      <th>prediction</th>\n",
       "    </tr>\n",
       "  </thead>\n",
       "  <tbody>\n",
       "    <tr>\n",
       "      <th>0</th>\n",
       "      <td>0.672670</td>\n",
       "      <td>0.357257</td>\n",
       "      <td>0.647793</td>\n",
       "      <td>0.526135</td>\n",
       "      <td>0.402572</td>\n",
       "      <td>0.295916</td>\n",
       "      <td>0.360373</td>\n",
       "      <td>0.562752</td>\n",
       "      <td>0.249987</td>\n",
       "      <td>0.135896</td>\n",
       "      <td>...</td>\n",
       "      <td>0.526309</td>\n",
       "      <td>0.585692</td>\n",
       "      <td>0.441165</td>\n",
       "      <td>0.432375</td>\n",
       "      <td>0.272439</td>\n",
       "      <td>0.354730</td>\n",
       "      <td>0.788402</td>\n",
       "      <td>0.137720</td>\n",
       "      <td>0.138565</td>\n",
       "      <td>0.99</td>\n",
       "    </tr>\n",
       "    <tr>\n",
       "      <th>1</th>\n",
       "      <td>0.374474</td>\n",
       "      <td>0.221709</td>\n",
       "      <td>0.378188</td>\n",
       "      <td>0.240066</td>\n",
       "      <td>0.560884</td>\n",
       "      <td>0.492763</td>\n",
       "      <td>0.279448</td>\n",
       "      <td>0.408674</td>\n",
       "      <td>0.464791</td>\n",
       "      <td>0.308337</td>\n",
       "      <td>...</td>\n",
       "      <td>0.168876</td>\n",
       "      <td>0.280167</td>\n",
       "      <td>0.134904</td>\n",
       "      <td>0.442035</td>\n",
       "      <td>0.245469</td>\n",
       "      <td>0.162618</td>\n",
       "      <td>0.507524</td>\n",
       "      <td>0.203622</td>\n",
       "      <td>0.149824</td>\n",
       "      <td>0.54</td>\n",
       "    </tr>\n",
       "    <tr>\n",
       "      <th>2</th>\n",
       "      <td>0.354346</td>\n",
       "      <td>0.175834</td>\n",
       "      <td>0.369576</td>\n",
       "      <td>0.213971</td>\n",
       "      <td>0.257556</td>\n",
       "      <td>0.202627</td>\n",
       "      <td>0.109699</td>\n",
       "      <td>0.164267</td>\n",
       "      <td>0.312425</td>\n",
       "      <td>0.143008</td>\n",
       "      <td>...</td>\n",
       "      <td>0.167424</td>\n",
       "      <td>0.298260</td>\n",
       "      <td>0.186942</td>\n",
       "      <td>0.232101</td>\n",
       "      <td>0.237562</td>\n",
       "      <td>0.253969</td>\n",
       "      <td>0.376750</td>\n",
       "      <td>0.211270</td>\n",
       "      <td>0.178677</td>\n",
       "      <td>0.12</td>\n",
       "    </tr>\n",
       "    <tr>\n",
       "      <th>3</th>\n",
       "      <td>0.328727</td>\n",
       "      <td>0.234848</td>\n",
       "      <td>0.306798</td>\n",
       "      <td>0.199235</td>\n",
       "      <td>0.128973</td>\n",
       "      <td>0.101026</td>\n",
       "      <td>0.062744</td>\n",
       "      <td>0.072311</td>\n",
       "      <td>0.393044</td>\n",
       "      <td>0.136262</td>\n",
       "      <td>...</td>\n",
       "      <td>0.253808</td>\n",
       "      <td>0.260458</td>\n",
       "      <td>0.134776</td>\n",
       "      <td>0.123430</td>\n",
       "      <td>0.165205</td>\n",
       "      <td>0.101105</td>\n",
       "      <td>0.223091</td>\n",
       "      <td>0.213911</td>\n",
       "      <td>0.152405</td>\n",
       "      <td>0.05</td>\n",
       "    </tr>\n",
       "    <tr>\n",
       "      <th>4</th>\n",
       "      <td>0.310603</td>\n",
       "      <td>0.035833</td>\n",
       "      <td>0.309898</td>\n",
       "      <td>0.185172</td>\n",
       "      <td>0.678531</td>\n",
       "      <td>0.246401</td>\n",
       "      <td>0.160347</td>\n",
       "      <td>0.321807</td>\n",
       "      <td>0.683095</td>\n",
       "      <td>0.354375</td>\n",
       "      <td>...</td>\n",
       "      <td>0.011738</td>\n",
       "      <td>0.191682</td>\n",
       "      <td>0.102910</td>\n",
       "      <td>0.483966</td>\n",
       "      <td>0.111898</td>\n",
       "      <td>0.061531</td>\n",
       "      <td>0.260356</td>\n",
       "      <td>0.215936</td>\n",
       "      <td>0.101366</td>\n",
       "      <td>0.00</td>\n",
       "    </tr>\n",
       "  </tbody>\n",
       "</table>\n",
       "<p>5 rows × 31 columns</p>\n",
       "</div>"
      ],
      "text/plain": [
       "   mean radius  mean texture  mean perimeter  mean area  mean smoothness  \\\n",
       "0     0.672670      0.357257        0.647793   0.526135         0.402572   \n",
       "1     0.374474      0.221709        0.378188   0.240066         0.560884   \n",
       "2     0.354346      0.175834        0.369576   0.213971         0.257556   \n",
       "3     0.328727      0.234848        0.306798   0.199235         0.128973   \n",
       "4     0.310603      0.035833        0.309898   0.185172         0.678531   \n",
       "\n",
       "   mean compactness  mean concavity  mean concave points  mean symmetry  \\\n",
       "0          0.295916        0.360373             0.562752       0.249987   \n",
       "1          0.492763        0.279448             0.408674       0.464791   \n",
       "2          0.202627        0.109699             0.164267       0.312425   \n",
       "3          0.101026        0.062744             0.072311       0.393044   \n",
       "4          0.246401        0.160347             0.321807       0.683095   \n",
       "\n",
       "   mean fractal dimension  ...  worst texture  worst perimeter  worst area  \\\n",
       "0                0.135896  ...       0.526309         0.585692    0.441165   \n",
       "1                0.308337  ...       0.168876         0.280167    0.134904   \n",
       "2                0.143008  ...       0.167424         0.298260    0.186942   \n",
       "3                0.136262  ...       0.253808         0.260458    0.134776   \n",
       "4                0.354375  ...       0.011738         0.191682    0.102910   \n",
       "\n",
       "   worst smoothness  worst compactness  worst concavity  worst concave points  \\\n",
       "0          0.432375           0.272439         0.354730              0.788402   \n",
       "1          0.442035           0.245469         0.162618              0.507524   \n",
       "2          0.232101           0.237562         0.253969              0.376750   \n",
       "3          0.123430           0.165205         0.101105              0.223091   \n",
       "4          0.483966           0.111898         0.061531              0.260356   \n",
       "\n",
       "   worst symmetry  worst fractal dimension  prediction  \n",
       "0        0.137720                 0.138565        0.99  \n",
       "1        0.203622                 0.149824        0.54  \n",
       "2        0.211270                 0.178677        0.12  \n",
       "3        0.213911                 0.152405        0.05  \n",
       "4        0.215936                 0.101366        0.00  \n",
       "\n",
       "[5 rows x 31 columns]"
      ]
     },
     "execution_count": 60,
     "metadata": {},
     "output_type": "execute_result"
    }
   ],
   "source": [
    "ldr.D.head()"
   ]
  },
  {
   "cell_type": "markdown",
   "metadata": {},
   "source": [
    "Bar Chart Example"
   ]
  },
  {
   "cell_type": "code",
   "execution_count": 61,
   "metadata": {},
   "outputs": [
    {
     "data": {
      "text/plain": [
       "<BarContainer object of 24 artists>"
      ]
     },
     "execution_count": 61,
     "metadata": {},
     "output_type": "execute_result"
    },
    {
     "data": {
      "image/png": "[encoded data removed]",
      "text/plain": [
       "<Figure size 864x576 with 1 Axes>"
      ]
     },
     "metadata": {},
     "output_type": "display_data"
    }
   ],
   "source": [
    "# Select mid values of intervals for x values.\n",
    "Cols = plt.get_cmap(\"Spectral\")\n",
    "bar_vals = ldr.D_bins[features[0]] - 0.5\n",
    "x = [i.mid for i in np.array(bar_vals.keys())]\n",
    "y = bar_vals.values\n",
    "c = [Cols(i+0.5) for i in y]\n",
    "\n",
    "plt.bar(x=x, height=y, width=1 / len(x) * 1.05, color=c)"
   ]
  },
  {
   "cell_type": "markdown",
   "metadata": {},
   "source": [
    "2D contour example"
   ]
  },
  {
   "cell_type": "code",
   "execution_count": null,
   "metadata": {
    "scrolled": false
   },
   "outputs": [],
   "source": [
    "res_sub = np.linspace(0.0, 1.0, 21)\n",
    "cols = ldr.D.columns[:-1]\n",
    "col1, col2, colp = \"worst radius\", \"mean concave points\", \"prediction\"\n",
    "# Use epsilon equal to resolution of the contour.\n",
    "clf = svm.SVR(gamma=\"scale\", epsilon=res_sub[0])\n",
    "sample = ldr.D.sample(10000)\n",
    "clf.fit(sample[[col1, col2]], sample[\"prediction\"])\n",
    "\n",
    "Xm, Ym = np.meshgrid(res_sub, res_sub)\n",
    "Zm = [[clf.predict([[i, j]])[0] - 0.5 for i in res_sub] for j in res_sub]\n",
    "print(\"mesh complete\")\n",
    "plt.contourf(Xm, Ym, Zm, levels=np.linspace(-0.5, 0.5, 41), cmap=\"Spectral\")"
   ]
  },
  {
   "cell_type": "code",
   "execution_count": null,
   "metadata": {
    "scrolled": false
   },
   "outputs": [],
   "source": [
    "ldr.density_scatter(\"worst area\")"
   ]
  },
  {
   "cell_type": "code",
   "execution_count": null,
   "metadata": {},
   "outputs": [],
   "source": [
    "ldr.scatter_plot_matrix(features)"
   ]
  },
  {
   "cell_type": "code",
   "execution_count": null,
   "metadata": {},
   "outputs": [],
   "source": [
    "ldr.vis_1d(figsize=(32, 8))"
   ]
  },
  {
   "cell_type": "markdown",
   "metadata": {},
   "source": [
    "Everything red will be classified as malignant, everything blue will be classified as benign."
   ]
  },
  {
   "cell_type": "code",
   "execution_count": null,
   "metadata": {
    "scrolled": true
   },
   "outputs": [],
   "source": [
    "ldr.vis_2d()"
   ]
  },
  {
   "cell_type": "markdown",
   "metadata": {},
   "source": [
    "### One Class SVM\n",
    "Used for outlier detection/estimating a learning frontier. The SVM is set to use 10% of points estimated as outliers to set the learning frontier."
   ]
  },
  {
   "cell_type": "code",
   "execution_count": null,
   "metadata": {},
   "outputs": [],
   "source": [
    "oc_clf = OneClassSVM(gamma='auto', nu=0.1).fit(X_train)"
   ]
  },
  {
   "cell_type": "code",
   "execution_count": null,
   "metadata": {},
   "outputs": [],
   "source": [
    "def oc_clf_func(df):\n",
    "    pred = oc_clf.predict(df)\n",
    "    return [(i + 1) / 2 for i in pred]"
   ]
  },
  {
   "cell_type": "code",
   "execution_count": null,
   "metadata": {},
   "outputs": [],
   "source": [
    "tst = oc_clf_func(X_train)\n",
    "pd.Series(tst).value_counts()"
   ]
  },
  {
   "cell_type": "code",
   "execution_count": null,
   "metadata": {},
   "outputs": [],
   "source": [
    "ldr.density_estimate(oc_clf_func, n=10000)"
   ]
  },
  {
   "cell_type": "code",
   "execution_count": null,
   "metadata": {},
   "outputs": [],
   "source": [
    "ldr.density_scatter(\"mean smoothness\")"
   ]
  },
  {
   "cell_type": "code",
   "execution_count": null,
   "metadata": {},
   "outputs": [],
   "source": [
    "ldr.select_1d_bins(features, n_bins=25)"
   ]
  },
  {
   "cell_type": "code",
   "execution_count": null,
   "metadata": {},
   "outputs": [],
   "source": [
    "ldr.scatter_plot_matrix(features)"
   ]
  },
  {
   "cell_type": "code",
   "execution_count": null,
   "metadata": {
    "scrolled": true
   },
   "outputs": [],
   "source": [
    "ldr.vis_1d(figsize=(32, 8))"
   ]
  },
  {
   "cell_type": "markdown",
   "metadata": {},
   "source": [
    "Red will be classified as within range of the classifier, while blue will be classified as outliers."
   ]
  },
  {
   "cell_type": "code",
   "execution_count": null,
   "metadata": {},
   "outputs": [],
   "source": [
    "ldr.vis_2d()"
   ]
  },
  {
   "cell_type": "markdown",
   "metadata": {},
   "source": [
    "## Random Forest Classifier and Outlier Detection Superposition"
   ]
  },
  {
   "cell_type": "code",
   "execution_count": null,
   "metadata": {},
   "outputs": [],
   "source": [
    "def oc_rf_clf_func(df):\n",
    "    oc_pred = oc_clf_func(df)\n",
    "    rf_pred = rf_clf_func(df)\n",
    "    return [(rf_pred[i] - 0.5) * i_val + 0.5 for i, i_val in enumerate(oc_pred)]"
   ]
  },
  {
   "cell_type": "code",
   "execution_count": null,
   "metadata": {},
   "outputs": [],
   "source": [
    "tst = oc_rf_clf_func(X_train[:30])\n",
    "print(tst[:30])"
   ]
  },
  {
   "cell_type": "code",
   "execution_count": null,
   "metadata": {},
   "outputs": [],
   "source": [
    "ldr.density_estimate(oc_rf_clf_func, n=10000)"
   ]
  },
  {
   "cell_type": "code",
   "execution_count": null,
   "metadata": {
    "scrolled": true
   },
   "outputs": [],
   "source": [
    "ldr.density_scatter(features[1])"
   ]
  },
  {
   "cell_type": "code",
   "execution_count": null,
   "metadata": {},
   "outputs": [],
   "source": [
    "ldr.select_1d_bins(features, n_bins=25)"
   ]
  },
  {
   "cell_type": "code",
   "execution_count": null,
   "metadata": {},
   "outputs": [],
   "source": [
    "ldr.vis_1d(figsize=(32, 8))"
   ]
  },
  {
   "cell_type": "markdown",
   "metadata": {},
   "source": [
    "The areas where the classifier is uncertain have been superposed with the areas where samples are taken where training data is not present. The dark colours are strong indicates of good quality accross dimensions."
   ]
  },
  {
   "cell_type": "code",
   "execution_count": null,
   "metadata": {},
   "outputs": [],
   "source": [
    "ldr.vis_2d()"
   ]
  },
  {
   "cell_type": "markdown",
   "metadata": {},
   "source": [
    "## Neural Network"
   ]
  },
  {
   "cell_type": "code",
   "execution_count": null,
   "metadata": {},
   "outputs": [],
   "source": [
    "import torch\n",
    "import torch.nn as nn\n",
    "import torch.nn.functional as F\n",
    "import torch.optim as optim"
   ]
  },
  {
   "cell_type": "code",
   "execution_count": null,
   "metadata": {},
   "outputs": [],
   "source": [
    "class Net(nn.Module):\n",
    "    def __init__(self):\n",
    "        super(Net, self).__init__()\n",
    "        # 30 dimensions go in, 2 go out. The 2 coming out are the two\n",
    "        # different classes available.\n",
    "        self.fc1 = nn.Linear(X_train.shape[1], 3)\n",
    "        self.fc2 = nn.Linear(3, 2)\n",
    "\n",
    "    def forward(self, x):\n",
    "        x = self.fc1(x)\n",
    "        x = F.tanh(x)\n",
    "        x = self.fc2(x)\n",
    "        return x\n",
    "\n",
    "    def predict(self, x):\n",
    "        # Calculate probabilities of each class.\n",
    "        pred = F.softmax(self.forward(x))\n",
    "        \n",
    "        # Return the largest weighted class.\n",
    "        return torch.tensor([0 if i[0] > i[1] else 1 for i in pred])\n",
    "    \n",
    "    def predict_proba(self, x):\n",
    "        # Calculate probabilities of each class.\n",
    "        pred = F.softmax(self.forward(x))\n",
    "        \n",
    "        # Return the largest weighted class.\n",
    "        return torch.tensor([i[1] / (i[0] + i[1]) for i in pred])"
   ]
  },
  {
   "cell_type": "markdown",
   "metadata": {},
   "source": [
    "This may need to be rerun to prevent the stochastic trap."
   ]
  },
  {
   "cell_type": "code",
   "execution_count": null,
   "metadata": {
    "scrolled": true
   },
   "outputs": [],
   "source": [
    "net = Net()\n",
    "\n",
    "# Prepare data for neural network.\n",
    "inputs = torch.FloatTensor(X_train.values)\n",
    "labels = torch.LongTensor([1 if i == \"malignant\" else 0 for i in y_train])\n",
    "\n",
    "# Optimizer to speed things up, cross entropy loss as it is a classifcation problem.\n",
    "criterion = nn.CrossEntropyLoss()\n",
    "optimizer = optim.Adam(net.parameters(), lr=0.01)\n",
    "epochs = 30000\n",
    "\n",
    "losses = []\n",
    "for epoch in range(epochs):\n",
    "    outputs = net.forward(inputs)\n",
    "    loss = criterion(outputs, labels)\n",
    "    losses.append(loss)\n",
    "    optimizer.zero_grad()\n",
    "    loss.backward()\n",
    "    optimizer.step()\n",
    "    if epoch % 1000 == 0:\n",
    "        print(\"epoch:\", epoch, \"loss:\", loss)\n",
    "    \n",
    "print('Finished Training ')"
   ]
  },
  {
   "cell_type": "markdown",
   "metadata": {},
   "source": [
    "Test NN accuracy."
   ]
  },
  {
   "cell_type": "code",
   "execution_count": null,
   "metadata": {},
   "outputs": [],
   "source": [
    "test_input = torch.FloatTensor(X_test.values)\n",
    "preds = np.array(net.predict(test_input))\n",
    "test_labels = [1 if i == \"malignant\" else 0 for i in y_test]\n",
    "print(preds)\n",
    "print(\"F1 score:\", f1_score(test_labels, preds, pos_label=1))\n",
    "print(\"Confusion matrix:\")\n",
    "print(confusion_matrix(test_labels, preds))"
   ]
  },
  {
   "cell_type": "markdown",
   "metadata": {},
   "source": [
    "The actual classifier function uses the raw certainty of the model."
   ]
  },
  {
   "cell_type": "code",
   "execution_count": null,
   "metadata": {},
   "outputs": [],
   "source": [
    "preds = np.array(net.predict_proba(test_input))\n",
    "for i in zip(preds, test_labels):\n",
    "    print(i)"
   ]
  },
  {
   "cell_type": "code",
   "execution_count": null,
   "metadata": {},
   "outputs": [],
   "source": [
    "# Certainty \n",
    "def nn_clf_func(df):\n",
    "    test_tensor = torch.FloatTensor(df.values)\n",
    "    return np.array(net.predict_proba(test_tensor))"
   ]
  },
  {
   "cell_type": "code",
   "execution_count": null,
   "metadata": {},
   "outputs": [],
   "source": [
    "ldr.density_estimate(nn_clf_func, n=10000)"
   ]
  },
  {
   "cell_type": "code",
   "execution_count": null,
   "metadata": {},
   "outputs": [],
   "source": [
    "ldr.density_scatter(\"worst area\")"
   ]
  },
  {
   "cell_type": "code",
   "execution_count": null,
   "metadata": {},
   "outputs": [],
   "source": [
    "ldr.select_1d_bins(features, n_bins=25)\n",
    "ldr.vis_1d(figsize=(32, 8))\n",
    "ldr.vis_2d()"
   ]
  },
  {
   "cell_type": "markdown",
   "metadata": {},
   "source": [
    "## NN Classifier and Outlier Detection Superposition"
   ]
  },
  {
   "cell_type": "code",
   "execution_count": null,
   "metadata": {},
   "outputs": [],
   "source": [
    "# Certainty \n",
    "def oc_nn_clf_func(df):\n",
    "    oc_pred = oc_clf_func(df)\n",
    "    nn_pred = nn_clf_func(df)\n",
    "    return [(nn_pred[i] - 0.5) * i_val + 0.5 for i, i_val in enumerate(oc_pred)]"
   ]
  },
  {
   "cell_type": "code",
   "execution_count": null,
   "metadata": {},
   "outputs": [],
   "source": [
    "tst = oc_nn_clf_func(X_train)\n",
    "print(tst[:30])"
   ]
  },
  {
   "cell_type": "code",
   "execution_count": null,
   "metadata": {
    "scrolled": false
   },
   "outputs": [],
   "source": [
    "ldr.density_estimate(oc_nn_clf_func, n=10000)\n",
    "ldr.density_scatter(features[1])\n",
    "ldr.vis_1d_separate(\"Breast Cancer Feature Effects on Diagnosis\")\n",
    "ldr.select_1d_bins(features, n_bins=50)\n",
    "ldr.vis_1d(figsize=(32, 8))\n",
    "ldr.vis_2d()"
   ]
  },
  {
   "cell_type": "code",
   "execution_count": null,
   "metadata": {
    "scrolled": false
   },
   "outputs": [],
   "source": []
  }
 ],
 "metadata": {
  "kernelspec": {
   "display_name": "Python 3",
   "language": "python",
   "name": "python3"
  },
  "language_info": {
   "codemirror_mode": {
    "name": "ipython",
    "version": 3
   },
   "file_extension": ".py",
   "mimetype": "text/x-python",
   "name": "python",
   "nbconvert_exporter": "python",
   "pygments_lexer": "ipython3",
   "version": "3.7.4"
  }
 },
 "nbformat": 4,
 "nbformat_minor": 2
}
